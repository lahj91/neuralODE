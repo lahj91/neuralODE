{
 "cells": [
  {
   "cell_type": "code",
   "execution_count": 1,
   "id": "a2651ded",
   "metadata": {},
   "outputs": [],
   "source": [
    "import torch\n",
    "import torch.nn as nn\n",
    "import torch.nn.functional as F\n",
    "import torch.optim as optim\n",
    "from torchvision import datasets, transforms\n",
    "from torch.utils.data import DataLoader\n",
    "from torchdiffeq import odeint_adjoint as odeint\n",
    "\n",
    "device = torch.device(\"cuda\" if torch.cuda.is_available() else \"cpu\")"
   ]
  },
  {
   "cell_type": "code",
   "execution_count": 2,
   "id": "2e6946bc",
   "metadata": {},
   "outputs": [],
   "source": [
    "class ODEFUnc(nn.Module):\n",
    "    def __init__(self, dim):\n",
    "        super().__init__()\n",
    "        self.net = nn.Sequential(\n",
    "            nn.Linear(dim + 1, 64),\n",
    "            nn.Tanh(),\n",
    "            nn.Linear(64, dim)\n",
    "        )\n",
    "    \n",
    "    def forward(self, t, x):\n",
    "        if x.dim() == 1:\n",
    "            x = x.unsqueeze(0)\n",
    "        t_expanded = t.expand(x.size(0), 1)  # shape (batch_size, 1)\n",
    "        tx = torch.cat([x, t_expanded], dim=1)  # shape (batch_size, dim + 1)\n",
    "        \n",
    "        return self.net(tx)\n",
    "\n",
    "class ODEBlock(nn.Module):\n",
    "    def __init__(self, odefunc):\n",
    "        super().__init__()\n",
    "        self.odefunc = odefunc\n",
    "        self.integration_time = torch.tensor([0., 1.]).float()\n",
    "\n",
    "    def forward(self, x):\n",
    "        self.integration_time = self.integration_time.to(x.device)\n",
    "        out = odeint(self.odefunc, x, self.integration_time, method='dopri5')\n",
    "        return out[-1]"
   ]
  },
  {
   "cell_type": "code",
   "execution_count": 3,
   "id": "ac9f7503",
   "metadata": {},
   "outputs": [],
   "source": [
    "class NeuralODEClassifier(nn.Module):\n",
    "    def __init__(self):\n",
    "        super().__init__()\n",
    "        self.fc1 = nn.Linear(28*28, 64)\n",
    "        self.odeblock = ODEBlock(ODEFUnc(64))\n",
    "        self.fc2 = nn.Linear(64, 10)\n",
    "\n",
    "    def forward(self, x):\n",
    "        x = x.view(x.size(0), -1)\n",
    "        x = F.relu(self.fc1(x))\n",
    "        x = self.odeblock(x)\n",
    "        x = self.fc2(x)\n",
    "        return x"
   ]
  },
  {
   "cell_type": "code",
   "execution_count": 4,
   "id": "f6526131",
   "metadata": {},
   "outputs": [],
   "source": [
    "def train(model, train_loader, optimizer, criterion, epoch):\n",
    "    model.train()\n",
    "    total_loss = 0\n",
    "    for data, target in train_loader:\n",
    "        data, target = data.to(device), target.to(device)\n",
    "        optimizer.zero_grad()\n",
    "        output = model(data)\n",
    "        loss = criterion(output, target)\n",
    "        loss.backward()\n",
    "        optimizer.step()\n",
    "        total_loss += loss.item()\n",
    "    print(f\"Epoch {epoch}: Train Loss = {total_loss / len(train_loader):.4f}\")\n",
    "\n",
    "def test(model, test_loader):\n",
    "    model.eval()\n",
    "    correct = 0\n",
    "    with torch.no_grad():\n",
    "        for data, target in test_loader:\n",
    "            data, target = data.to(device), target.to(device)\n",
    "            output = model(data)\n",
    "            pred = output.argmax(dim=1)\n",
    "            correct += pred.eq(target).sum().item()\n",
    "    print(f\"Test Accuracy: {correct / len(test_loader.dataset) * 100:.2f}%\")"
   ]
  },
  {
   "cell_type": "code",
   "execution_count": 5,
   "id": "9bfdc00e",
   "metadata": {},
   "outputs": [],
   "source": [
    "transform = transforms.ToTensor()\n",
    "train_set = datasets.MNIST(root='./data', train=True, download=True, transform=transform)\n",
    "test_set = datasets.MNIST(root='./data', train=False, transform=transform)\n",
    "train_loader = DataLoader(train_set, batch_size=128, shuffle=True, pin_memory=True)\n",
    "test_loader = DataLoader(test_set, batch_size=1000, shuffle=False, pin_memory=True)"
   ]
  },
  {
   "cell_type": "code",
   "execution_count": 6,
   "id": "6af3aedd",
   "metadata": {},
   "outputs": [
    {
     "name": "stdout",
     "output_type": "stream",
     "text": [
      "Epoch 1: Train Loss = 0.3856\n",
      "Test Accuracy: 94.59%\n",
      "Epoch 2: Train Loss = 0.1616\n",
      "Test Accuracy: 95.49%\n",
      "Epoch 3: Train Loss = 0.1188\n",
      "Test Accuracy: 96.42%\n",
      "Epoch 4: Train Loss = 0.0945\n",
      "Test Accuracy: 97.00%\n",
      "Epoch 5: Train Loss = 0.0795\n",
      "Test Accuracy: 96.99%\n"
     ]
    }
   ],
   "source": [
    "model = NeuralODEClassifier().to(device)\n",
    "optimizer = optim.Adam(model.parameters(), lr=1e-3)\n",
    "criterion = nn.CrossEntropyLoss()\n",
    "\n",
    "for epoch in range(1, 6):\n",
    "    train(model, train_loader, optimizer, criterion, epoch)\n",
    "    test(model, test_loader)"
   ]
  },
  {
   "cell_type": "code",
   "execution_count": 29,
   "id": "2482b26f",
   "metadata": {},
   "outputs": [
    {
     "name": "stdout",
     "output_type": "stream",
     "text": [
      "GT = 4, pred = 4\n"
     ]
    },
    {
     "data": {
      "image/png": "[encoded data removed]",
      "text/plain": [
       "<Figure size 640x480 with 1 Axes>"
      ]
     },
     "metadata": {},
     "output_type": "display_data"
    }
   ],
   "source": [
    "import matplotlib.pyplot as plt\n",
    "\n",
    "i = 6\n",
    "\n",
    "data, target = next(iter(test_loader))\n",
    "data, target = data.to(device), target.to(device)\n",
    "\n",
    "with torch.no_grad():\n",
    "    output = model(data)\n",
    "    pred = output.argmax(dim=1)\n",
    "\n",
    "print(f\"GT = {target[i].item()}, pred = {pred[i].item()}\")\n",
    "\n",
    "img = data[i].cpu().squeeze()\n",
    "plt.imshow(img, cmap='gray')\n",
    "plt.axis('off')\n",
    "plt.title(f\"GT: {target[i].item()}, Pred: {pred[i].item()}\")\n",
    "plt.show()\n"
   ]
  }
 ],
 "metadata": {
  "kernelspec": {
   "display_name": "ddpm",
   "language": "python",
   "name": "python3"
  },
  "language_info": {
   "codemirror_mode": {
    "name": "ipython",
    "version": 3
   },
   "file_extension": ".py",
   "mimetype": "text/x-python",
   "name": "python",
   "nbconvert_exporter": "python",
   "pygments_lexer": "ipython3",
   "version": "3.8.16"
  }
 },
 "nbformat": 4,
 "nbformat_minor": 5
}
